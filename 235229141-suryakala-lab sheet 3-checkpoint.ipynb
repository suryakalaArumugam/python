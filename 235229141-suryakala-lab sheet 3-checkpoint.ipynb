{
 "cells": [
  {
   "cell_type": "markdown",
   "id": "913e1155",
   "metadata": {},
   "source": [
    "ROLL NO: 235229141\n",
    "NAME   : SURYAKALA A\n",
    "LAB SHEET: LIST PROCESSING IN PYTHON"
   ]
  },
  {
   "cell_type": "markdown",
   "id": "81b573d5",
   "metadata": {},
   "source": [
    "Question1. Write a function find_average(student) that takes student tuple as input and\n",
    "print student rollno, name, marks and average marks as output.\n",
    "Test Cases:\n",
    "1. stud1 = (1, “rex”, 60, 85, 70)\n",
    "find_average(stud1)\n",
    "Modify the above function find_average(student) so that it processes a tuple of tuples.\n",
    "2. stud2 = (2, “rex”, (80, 75, 90))\n",
    "find_average(stud2)"
   ]
  },
  {
   "cell_type": "code",
   "execution_count": 8,
   "id": "ae8db85a",
   "metadata": {},
   "outputs": [
    {
     "name": "stdout",
     "output_type": "stream",
     "text": [
      "Roll No:  1\n",
      "Name:  rex\n",
      "Marks:  [60, 85, 70]\n",
      "Average Marks:  71.66666666666667\n",
      "Roll No:  2\n",
      "Name:  rex\n",
      "Marks:  [80, 75, 90]\n",
      "Average Marks:  81.66666666666667\n"
     ]
    }
   ],
   "source": [
    "def find_average(student):\n",
    "    rollno, name, *marks = student\n",
    "    marks_sum = sum(marks)\n",
    "    average_marks = marks_sum / len(marks)\n",
    "    print(\"Roll No: \", rollno)\n",
    "    print(\"Name: \", name)\n",
    "    print(\"Marks: \", marks)\n",
    "    print(\"Average Marks: \", average_marks)\n",
    "stud1 = (1, \"rex\", 60, 85, 70)\n",
    "find_average(stud1)\n",
    "stud2 = (2, \"rex\", 80, 75, 90)\n",
    "find_average(stud2)"
   ]
  },
  {
   "cell_type": "markdown",
   "id": "e9d7043d",
   "metadata": {},
   "source": [
    "Question2. Write a weight management program that prompts the user to enter in 7 days\n",
    "of their body weight values as float numbers. Store them in list.\n",
    "Then print first day weight, last day weight, 4th day weight, highest weight, lowest weight\n",
    "and average weight.\n",
    "Finally, print if average weight < lowest weight, then print “Your weight management is\n",
    "excellent”. Otherwise print “Your weight management is not good. Please take care of your\n",
    "diet”."
   ]
  },
  {
   "cell_type": "code",
   "execution_count": 9,
   "id": "62c26e4d",
   "metadata": {},
   "outputs": [
    {
     "name": "stdout",
     "output_type": "stream",
     "text": [
      "Enter weight value for day 1: 90\n",
      "Enter weight value for day 2: 88\n",
      "Enter weight value for day 3: 85\n",
      "Enter weight value for day 4: 80\n",
      "Enter weight value for day 5: 77\n",
      "Enter weight value for day 6: 74\n",
      "Enter weight value for day 7: 70\n",
      "\n",
      "First day weight: 90.0\n",
      "Last day weight: 70.0\n",
      "4th day weight: 80.0\n",
      "Highest weight: 90.0\n",
      "Lowest weight: 70.0\n",
      "Average weight: 80.57142857142857\n",
      "\n",
      "Your weight management is not good. Please take care of your diet.\n"
     ]
    }
   ],
   "source": [
    "weight_values = []\n",
    "for day in range(1, 8):\n",
    "    weight = float(input(f\"Enter weight value for day {day}: \"))\n",
    "    weight_values.append(weight)\n",
    "print(\"\\nFirst day weight:\", weight_values[0])\n",
    "print(\"Last day weight:\", weight_values[-1])\n",
    "print(\"4th day weight:\", weight_values[3])\n",
    "highest_weight = max(weight_values)\n",
    "print(\"Highest weight:\", highest_weight)\n",
    "lowest_weight = min(weight_values)\n",
    "print(\"Lowest weight:\", lowest_weight)\n",
    "average_weight = sum(weight_values) / len(weight_values)\n",
    "print(\"Average weight:\", average_weight)\n",
    "if average_weight < lowest_weight:\n",
    "    print(\"\\nYour weight management is excellent.\")\n",
    "else:\n",
    "    print(\"\\nYour weight management is not good. Please take care of your diet.\")"
   ]
  },
  {
   "cell_type": "markdown",
   "id": "deb8594c",
   "metadata": {},
   "source": [
    "Question3. Write a function lastN(lst, n) that takes a list of integers and n and returns n\n",
    "largest numbers.\n",
    "How many numbers you want to enter?: 6\n",
    "Enter a number: 12\n",
    "Enter a number: 32\n",
    "Enter a number: 10\n",
    "Enter a number: 9\n",
    "Enter a number: 52\n",
    "Enter a number: 45\n",
    "How many largest numbers you want to find?: 3\n",
    "Largest numbers are: 52, 45, 32"
   ]
  },
  {
   "cell_type": "code",
   "execution_count": 13,
   "id": "d9c9c09d",
   "metadata": {},
   "outputs": [
    {
     "name": "stdout",
     "output_type": "stream",
     "text": [
      "How many numbers you want to enter?: 5\n",
      "Enter a number: 45\n",
      "Enter a number: 55\n",
      "Enter a number: 25\n",
      "Enter a number: 10\n",
      "Enter a number: 5\n",
      "How many largest numbers you want to find?: 2\n",
      "Largest numbers are: 55, 45\n"
     ]
    }
   ],
   "source": [
    "def lastN(lst, n):\n",
    "    lst.sort(reverse=True)\n",
    "    return lst[:n]\n",
    "numbers = []\n",
    "num_of_numbers = int(input(\"How many numbers you want to enter?: \"))\n",
    "for _ in range(num_of_numbers):\n",
    "    number = int(input(\"Enter a number: \"))\n",
    "    numbers.append(number)\n",
    "num_of_largest = int(input(\"How many largest numbers you want to find?: \"))\n",
    "largest_numbers = lastN(numbers, num_of_largest)\n",
    "print(\"Largest numbers are:\", \", \".join(str(i) for i in largest_numbers))"
   ]
  },
  {
   "cell_type": "markdown",
   "id": "1a15b817",
   "metadata": {},
   "source": [
    "Question4. Given a list of strings, return a list with the strings in sorted order, except group\n",
    "all the strings that begin with 'x' first. Hint: this can be done by making 2 lists and sorting\n",
    "each of them before combining them."
   ]
  },
  {
   "cell_type": "code",
   "execution_count": 44,
   "id": "aa70365f",
   "metadata": {},
   "outputs": [
    {
     "ename": "NameError",
     "evalue": "name 'string_list' is not defined",
     "output_type": "error",
     "traceback": [
      "\u001b[1;31m---------------------------------------------------------------------------\u001b[0m",
      "\u001b[1;31mNameError\u001b[0m                                 Traceback (most recent call last)",
      "Cell \u001b[1;32mIn[44], line 4\u001b[0m\n\u001b[0;32m      2\u001b[0m     start_with_x \u001b[38;5;241m=\u001b[39m []\n\u001b[0;32m      3\u001b[0m     other_strings \u001b[38;5;241m=\u001b[39m []\n\u001b[1;32m----> 4\u001b[0m \u001b[38;5;28;01mfor\u001b[39;00m string \u001b[38;5;129;01min\u001b[39;00m string_list:\n\u001b[0;32m      5\u001b[0m     \u001b[38;5;28;01mif\u001b[39;00m string\u001b[38;5;241m.\u001b[39mstartswith(\u001b[38;5;124m'\u001b[39m\u001b[38;5;124mx\u001b[39m\u001b[38;5;124m'\u001b[39m):\n\u001b[0;32m      6\u001b[0m         start_with_x\u001b[38;5;241m.\u001b[39mappend(string) \n",
      "\u001b[1;31mNameError\u001b[0m: name 'string_list' is not defined"
     ]
    }
   ],
   "source": [
    "def sort_list_with_x_first(string_list):\n",
    "    start_with_x = []\n",
    "    other_strings = []\n",
    "for string in string_list:\n",
    "    if string.startswith('x'):\n",
    "        start_with_x.append(string) \n",
    "    else:\n",
    "        other_strings.append(string) \n",
    "        start_with_x.sort()\n",
    "        other_strings.sort()\n",
    "return start_with_x + other_strings\n",
    "strings = ['mix', 'xyz', 'apple', 'xanadu', 'aardvark']\n",
    "print(sort_list_with_x_first(strings))\n",
    "strings = ['xyz', 'apple', 'xanadu', 'x-ray', 'banana']\n",
    "print(sort_list_with_x_first(strings))\n",
    "strings = ['cat', 'dog', 'elephant', 'fish']\n",
    "print(sort_list_with_x_first(strings))"
   ]
  },
  {
   "cell_type": "markdown",
   "id": "615516b4",
   "metadata": {},
   "source": [
    "Question5. Develop a function sort_last(). Given a list of non-empty tuples, return a list\n",
    "sorted in increasing order by the last element in each tuple. Hint: use a custom key=\n",
    "function to extract the last element form each tuple."
   ]
  },
  {
   "cell_type": "code",
   "execution_count": 30,
   "id": "6ff56a49",
   "metadata": {},
   "outputs": [
    {
     "name": "stdout",
     "output_type": "stream",
     "text": [
      "[(2, 1), (3, 2), (1, 3)]\n"
     ]
    }
   ],
   "source": [
    "def sort_last(tuples):\n",
    "    def last_element(t):\n",
    "        return t[-1]\n",
    "    return sorted(tuples, key=last_element)\n",
    "tuples = [(1, 3), (3, 2), (2, 1)]\n",
    "print(sort_last(tuples))"
   ]
  },
  {
   "cell_type": "markdown",
   "id": "1dca8bfc",
   "metadata": {},
   "source": [
    "Question6. Other String Functions\n",
    "a) Define a function first() that receives a tuple and returns its first element\n",
    "b) Define a function sort_first() that receives a list of tuples and returns the sorted\n",
    "c) Print lists in sorted order\n",
    "d) Define a function middle() that receives a a tuple and returns its middle element\n",
    "e) Define a functino sort_middle() that receives a list of tuples and returns it sorted\n",
    "using the key middle\n",
    "f) Print the list [(1,2,3), (2,1,4), (10,7,15), (20,4,50), (30, 6, 40)] in sorted order. Output\n",
    "should be: [(2, 1, 4), (1, 2, 3), (20, 4, 50), (30, 6, 40), (10, 7, 15)]"
   ]
  },
  {
   "cell_type": "code",
   "execution_count": null,
   "id": "9deae849",
   "metadata": {},
   "outputs": [],
   "source": []
  },
  {
   "cell_type": "markdown",
   "id": "41a7a834",
   "metadata": {},
   "source": [
    "Question7. Develop a function remove_adjacent(). Given a list of numbers, return a list\n",
    "where all adjacent same elements have been reduced to a single element. You may create a\n",
    "new list or modify the passed in list."
   ]
  },
  {
   "cell_type": "code",
   "execution_count": 43,
   "id": "908c6a80",
   "metadata": {},
   "outputs": [],
   "source": []
  },
  {
   "cell_type": "markdown",
   "id": "9f13db33",
   "metadata": {},
   "source": [
    "Question8. Write a function verbing(). Given a string, if its length is at least 3, add 'ing' to its\n",
    "end. Unless it already ends in 'ing', in which case add 'ly' instead. If the string length is less\n",
    "than 3, leave it unchanged. Return the resulting string. So ‘hail’ yields: hailing; ‘swimming’\n",
    "yields: swimmingly; ‘do’ yields: do."
   ]
  },
  {
   "cell_type": "code",
   "execution_count": null,
   "id": "4ccf1ae1",
   "metadata": {},
   "outputs": [],
   "source": [
    "def add_string(str1):\n",
    "    length = len(str1)\n",
    "\n",
    "if length>2:\n",
    "    if str1[-3:] =='ing':\n",
    "        str1 +='ly'\n",
    "    else:\n",
    "        str1 +='ing'\n",
    "\n",
    "return str1\n",
    "print(add_string('hail'))\n",
    "print(add_string('swimming'))"
   ]
  },
  {
   "cell_type": "markdown",
   "id": "49db0534",
   "metadata": {},
   "source": [
    "Question9. Develop a function not_bad(). Given a string, find the first appearance of the substring 'not' and 'bad'. If the 'bad' follows the 'not', replace the whole 'not'...'bad' substring with 'good'. Return the resulting string. So 'This dinner is not that bad!' yields: This dinner is good!"
   ]
  },
  {
   "cell_type": "code",
   "execution_count": null,
   "id": "5b02cfaf",
   "metadata": {},
   "outputs": [],
   "source": [
    "def not_bad(str1):\n",
    "    snot = str1.find('not')\n",
    "    sbad = str1.find('bad')\n",
    "\n",
    "    if sbad>snot and snot>0 and sbad>0:\n",
    "        str1 = str1.replace(str1[snot:(sbad+4)],'good')\n",
    "        return str1\n",
    "    else:\n",
    "        return str1\n",
    "print(not_bad('The Dinner is good!'))\n",
    "print(not_bad('The Dinner is not bad!'))"
   ]
  },
  {
   "cell_type": "code",
   "execution_count": null,
   "id": "c4a7b6ea",
   "metadata": {},
   "outputs": [],
   "source": []
  }
 ],
 "metadata": {
  "kernelspec": {
   "display_name": "Python 3 (ipykernel)",
   "language": "python",
   "name": "python3"
  },
  "language_info": {
   "codemirror_mode": {
    "name": "ipython",
    "version": 3
   },
   "file_extension": ".py",
   "mimetype": "text/x-python",
   "name": "python",
   "nbconvert_exporter": "python",
   "pygments_lexer": "ipython3",
   "version": "3.11.3"
  }
 },
 "nbformat": 4,
 "nbformat_minor": 5
}
